{
  "cells": [
    {
      "cell_type": "markdown",
      "source": [
        "**GROUP 2**\n",
        "\n",
        "Name\n",
        "*  Alarcon Vargas, David Andres\n",
        "*  Chaparro Pérez, David Felipe\n",
        "*  Rincon Vija, Nicolas Mauricio"
      ],
      "metadata": {
        "id": "IhP7kfMG408f"
      }
    },
    {
      "cell_type": "markdown",
      "metadata": {
        "id": "_7zSSeX21Grj"
      },
      "source": [
        "# Simple iteration for systems of linear equations"
      ]
    },
    {
      "cell_type": "markdown",
      "metadata": {
        "id": "GRz8VJ0N1Grn"
      },
      "source": [
        "First, generate a random diagonally dominant matrix, for testing."
      ]
    },
    {
      "cell_type": "code",
      "execution_count": 21,
      "metadata": {
        "collapsed": true,
        "id": "jTVkb-WZ1Gro"
      },
      "outputs": [],
      "source": [
        "import numpy as np\n",
        "rndm = np.random.RandomState(1234)\n",
        "\n",
        "n = 10\n",
        "A = rndm.uniform(size=(n, n)) + np.diagflat([15]*n)\n",
        "b = rndm.uniform(size=n)"
      ]
    },
    {
      "cell_type": "code",
      "source": [
        "b"
      ],
      "metadata": {
        "colab": {
          "base_uri": "https://localhost:8080/"
        },
        "id": "p68Fd0pTMXER",
        "outputId": "b8c49d24-5285-4733-a41e-0d05f5a0c0b0"
      },
      "execution_count": 22,
      "outputs": [
        {
          "output_type": "execute_result",
          "data": {
            "text/plain": [
              "array([0.76711663, 0.70811536, 0.79686718, 0.55776083, 0.96583653,\n",
              "       0.1471569 , 0.029647  , 0.59389349, 0.1140657 , 0.95080985])"
            ]
          },
          "metadata": {},
          "execution_count": 22
        }
      ]
    },
    {
      "cell_type": "code",
      "source": [
        "A"
      ],
      "metadata": {
        "id": "4mv5q-nMKZwY",
        "outputId": "4cbdf4cb-ee90-4d45-b3b5-8a3a5bfa257c",
        "colab": {
          "base_uri": "https://localhost:8080/"
        }
      },
      "execution_count": 23,
      "outputs": [
        {
          "output_type": "execute_result",
          "data": {
            "text/plain": [
              "array([[1.51915195e+01, 6.22108771e-01, 4.37727739e-01, 7.85358584e-01,\n",
              "        7.79975808e-01, 2.72592605e-01, 2.76464255e-01, 8.01872178e-01,\n",
              "        9.58139354e-01, 8.75932635e-01],\n",
              "       [3.57817270e-01, 1.55009951e+01, 6.83462935e-01, 7.12702027e-01,\n",
              "        3.70250755e-01, 5.61196186e-01, 5.03083165e-01, 1.37684496e-02,\n",
              "        7.72826622e-01, 8.82641191e-01],\n",
              "       [3.64885984e-01, 6.15396178e-01, 1.50753812e+01, 3.68824006e-01,\n",
              "        9.33140102e-01, 6.51378143e-01, 3.97202578e-01, 7.88730143e-01,\n",
              "        3.16836122e-01, 5.68098653e-01],\n",
              "       [8.69127390e-01, 4.36173424e-01, 8.02147642e-01, 1.51437668e+01,\n",
              "        7.04260971e-01, 7.04581308e-01, 2.18792106e-01, 9.24867629e-01,\n",
              "        4.42140755e-01, 9.09315959e-01],\n",
              "       [5.98092228e-02, 1.84287084e-01, 4.73552788e-02, 6.74880944e-01,\n",
              "        1.55946248e+01, 5.33310163e-01, 4.33240627e-02, 5.61433080e-01,\n",
              "        3.29668446e-01, 5.02966833e-01],\n",
              "       [1.11894318e-01, 6.07193706e-01, 5.65944643e-01, 6.76406199e-03,\n",
              "        6.17441709e-01, 1.59121229e+01, 7.90524133e-01, 9.92081466e-01,\n",
              "        9.58801762e-01, 7.91964135e-01],\n",
              "       [2.85250960e-01, 6.24916705e-01, 4.78093796e-01, 1.95675179e-01,\n",
              "        3.82317452e-01, 5.38736851e-02, 1.54516484e+01, 9.82004742e-01,\n",
              "        1.23942700e-01, 1.19380898e-01],\n",
              "       [7.38523056e-01, 5.87303633e-01, 4.71632534e-01, 1.07126817e-01,\n",
              "        2.29218565e-01, 8.99965195e-01, 4.16753538e-01, 1.55358517e+01,\n",
              "        6.20851659e-03, 3.00641706e-01],\n",
              "       [4.36893172e-01, 6.12148997e-01, 9.18198075e-01, 6.25736670e-01,\n",
              "        7.05997565e-01, 1.49833716e-01, 7.46063409e-01, 8.31006992e-01,\n",
              "        1.56337258e+01, 4.38309881e-01],\n",
              "       [1.52572775e-01, 5.68409615e-01, 5.28224278e-01, 9.51428764e-01,\n",
              "        4.80359179e-01, 5.02559563e-01, 5.36878193e-01, 8.19202067e-01,\n",
              "        5.71156381e-02, 1.56694217e+01]])"
            ]
          },
          "metadata": {},
          "execution_count": 23
        }
      ]
    },
    {
      "cell_type": "markdown",
      "metadata": {
        "id": "oNGIGBex1Grq"
      },
      "source": [
        "# I.  Jacobi iteration\n",
        "\n",
        "Given\n",
        "\n",
        "$$\n",
        "A x = b\n",
        "$$\n",
        "\n",
        "separate the diagonal part $D$,\n",
        "\n",
        "$$ A = D + (A - D) $$\n",
        "\n",
        "and write\n",
        "\n",
        "$$\n",
        "x = D^{-1} (D - A) x + D^{-1} b\\;.\n",
        "$$\n",
        "\n",
        "Then iterate\n",
        "\n",
        "$$\n",
        "x_{n + 1} = B x_{n} + c\\;,\n",
        "$$\n",
        "\n",
        "where\n",
        "\n",
        "$$\n",
        "B = D^{-1} (A - D) \\qquad \\text{and} \\qquad c = D^{-1} b\n",
        "$$\n"
      ]
    },
    {
      "cell_type": "markdown",
      "metadata": {
        "id": "rB2PHHIK1Grr"
      },
      "source": [
        "Let's construct the matrix and the r.h.s. for the Jacobi iteration"
      ]
    },
    {
      "cell_type": "code",
      "execution_count": 24,
      "metadata": {
        "id": "bnk796g61Grr"
      },
      "outputs": [],
      "source": [
        "diag_1d = np.diag(A)\n",
        "\n",
        "B = -A.copy()\n",
        "np.fill_diagonal(B, 0)\n",
        "\n",
        "D = np.diag(diag_1d)\n",
        "invD = np.diag(1./diag_1d)\n",
        "BB = invD @ B\n",
        "c = invD @ b"
      ]
    },
    {
      "cell_type": "code",
      "execution_count": 25,
      "metadata": {
        "id": "0NTUyC3i1Grs"
      },
      "outputs": [],
      "source": [
        "# sanity checks\n",
        "from numpy.testing import assert_allclose\n",
        "\n",
        "assert_allclose(-B + D, A)\n",
        "\n",
        "\n",
        "# xx is a \"ground truth\" solution, compute it using a direct method\n",
        "xx = np.linalg.solve(A, b)\n",
        "\n",
        "np.testing.assert_allclose(A@xx, b)\n",
        "np.testing.assert_allclose(D@xx, B@xx + b)\n",
        "np.testing.assert_allclose(xx, BB@xx + c)"
      ]
    },
    {
      "cell_type": "markdown",
      "metadata": {
        "id": "nRaVUE6U1Grt"
      },
      "source": [
        "Check that $\\| B\\| \\leqslant 1$:"
      ]
    },
    {
      "cell_type": "code",
      "execution_count": 26,
      "metadata": {
        "id": "zgED2OGu1Gru",
        "outputId": "8404b1ce-e921-4ddf-d1e2-895de5570950",
        "colab": {
          "base_uri": "https://localhost:8080/"
        }
      },
      "outputs": [
        {
          "output_type": "execute_result",
          "data": {
            "text/plain": [
              "0.36436161983015336"
            ]
          },
          "metadata": {},
          "execution_count": 26
        }
      ],
      "source": [
        "np.linalg.norm(BB)"
      ]
    },
    {
      "cell_type": "markdown",
      "metadata": {
        "id": "rlBcusqg1Grv"
      },
      "source": [
        "### Do the Jacobi iteration"
      ]
    },
    {
      "cell_type": "code",
      "execution_count": 27,
      "metadata": {
        "collapsed": true,
        "id": "NK6iwDtm1Grv"
      },
      "outputs": [],
      "source": [
        "n_iter = 50\n",
        "\n",
        "x0 = np.ones(n)\n",
        "x = x0\n",
        "for _ in range(n_iter):\n",
        "    x = BB @ x + c"
      ]
    },
    {
      "cell_type": "code",
      "execution_count": 28,
      "metadata": {
        "id": "gsLyio7W1Grw",
        "outputId": "13c95122-7d61-4592-f49a-d9276d61ef4d",
        "colab": {
          "base_uri": "https://localhost:8080/"
        }
      },
      "outputs": [
        {
          "output_type": "execute_result",
          "data": {
            "text/plain": [
              "array([ 1.11022302e-16,  0.00000000e+00, -2.22044605e-16, -1.11022302e-16,\n",
              "        1.11022302e-16,  0.00000000e+00, -2.42861287e-17,  0.00000000e+00,\n",
              "       -2.77555756e-17,  1.11022302e-16])"
            ]
          },
          "metadata": {},
          "execution_count": 28
        }
      ],
      "source": [
        "# Check the result:\n",
        "\n",
        "A @ x - b"
      ]
    },
    {
      "cell_type": "markdown",
      "metadata": {
        "id": "MXfb9BuT1Grw"
      },
      "source": [
        "### Task I.1\n",
        "\n",
        "Collect the proof-of-concept above into a single function implementing the Jacobi iteration. This function should receive the r.h.s. matrix $A$, the l.h.s. vector `b`, and the number of iterations to perform.\n",
        "\n",
        "\n",
        "The matrix $A$ in the illustration above is strongly diagonally dominant, by construction.\n",
        "What happens if the diagonal matrix elements of $A$ are made smaller? Check the convergence of the Jacobi iteration, and check the value of the norm of $B$.\n",
        "\n",
        "(20% of the total grade)\n"
      ]
    },
    {
      "cell_type": "code",
      "execution_count": 29,
      "metadata": {
        "collapsed": true,
        "id": "5zqTUVVa1Grw"
      },
      "outputs": [],
      "source": [
        "# ... ENTER YOUR CODE HERE ...\n",
        "import numpy as np\n",
        "\n",
        "def jacobi_iteration(M_A, V_b, num_iterations):\n",
        "  n = M_A.shape[0]\n",
        "  x = np.zeros(n)\n",
        "  norms_diff = []\n",
        "  norms_B = []\n",
        "  for _ in range(num_iterations):\n",
        "      x_new = np.zeros(n)\n",
        "      for i in range(n):\n",
        "          x_new[i] = (V_b[i] - np.dot(M_A[i, :i], x[:i]) - np.dot(M_A[i, i+1:], x[i+1:])) / M_A[i, i]\n",
        "      norms_diff.append(np.linalg.norm(x_new - x))\n",
        "      norms_B.append(np.linalg.norm(M_A - np.diag(np.diagonal(M_A))))\n",
        "\n",
        "      x = x_new\n",
        "\n",
        "  return x, norms_diff, norms_B"
      ]
    },
    {
      "cell_type": "code",
      "source": [
        "A = np.array([[7, 1, 1],\n",
        "              [1, 8, 5],\n",
        "              [1, 5, 9]])\n",
        "\n",
        "b = np.array([1, 5, 6])\n",
        "\n",
        "num_iterations = 10"
      ],
      "metadata": {
        "id": "DNNHH8CP2VGv"
      },
      "execution_count": 30,
      "outputs": []
    },
    {
      "cell_type": "code",
      "source": [
        "x_orig, diff_orig, norm_B_orig = jacobi_iteration(A, b, num_iterations)"
      ],
      "metadata": {
        "id": "Z4VO0Cpw2zBf"
      },
      "execution_count": 31,
      "outputs": []
    },
    {
      "cell_type": "code",
      "source": [
        "A_modified = np.array([[0.7, 0.1, 0.1],\n",
        "                       [0.1, 0.8, 0.5],\n",
        "                       [0.1, 0.5, 0.9]])\n",
        "x_modified, diff_modified, norm_B_modified = jacobi_iteration(A_modified, b, num_iterations)\n"
      ],
      "metadata": {
        "id": "zUDiIuHh3vAv"
      },
      "execution_count": 32,
      "outputs": []
    },
    {
      "cell_type": "code",
      "source": [
        "print('matriz original')\n",
        "print(x_orig)\n",
        "print(diff_orig)\n",
        "\n",
        "print(norm_B_orig)\n",
        "\n",
        "print('matriz modificada')\n",
        "print(x_modified)\n",
        "print(diff_modified)\n",
        "\n",
        "print(norm_B_modified)"
      ],
      "metadata": {
        "id": "4bUQoSRg8RKb",
        "colab": {
          "base_uri": "https://localhost:8080/"
        },
        "outputId": "98809f86-8015-4497-e2dc-23207f300684"
      },
      "execution_count": 33,
      "outputs": [
        {
          "output_type": "stream",
          "name": "stdout",
          "text": [
            "matriz original\n",
            "[0.0259429  0.31264433 0.4827487 ]\n",
            "[0.9249203250603538, 0.5955653862101966, 0.3795756829762065, 0.24489902652625958, 0.15635375893678347, 0.1007923899409298, 0.0644041091155266, 0.041489469087698225, 0.026529378746075756, 0.017080474264069775]\n",
            "[7.3484692283495345, 7.3484692283495345, 7.3484692283495345, 7.3484692283495345, 7.3484692283495345, 7.3484692283495345, 7.3484692283495345, 7.3484692283495345, 7.3484692283495345, 7.3484692283495345]\n",
            "matriz modificada\n",
            "[0.25942903 3.12644329 4.82748699]\n",
            "[9.249203250603538, 5.955653862101966, 3.7957568297620656, 2.448990265262597, 1.5635375893678343, 1.0079238994092972, 0.6440410911552651, 0.41489469087698144, 0.26529378746075644, 0.1708047426406971]\n",
            "[0.7348469228349535, 0.7348469228349535, 0.7348469228349535, 0.7348469228349535, 0.7348469228349535, 0.7348469228349535, 0.7348469228349535, 0.7348469228349535, 0.7348469228349535, 0.7348469228349535]\n"
          ]
        }
      ]
    },
    {
      "cell_type": "markdown",
      "metadata": {
        "id": "xBnguRFT1Grx"
      },
      "source": [
        "# II. Seidel's iteration."
      ]
    },
    {
      "cell_type": "markdown",
      "metadata": {
        "id": "rSbuFdYU1Grx"
      },
      "source": [
        "##### Task II.1\n",
        "\n",
        "Implement the Seidel's iteration.\n",
        "\n",
        "Test it on a random matrix. Study the convergence of iterations, relate to the norm of the iteration matrix.\n",
        "\n",
        "(30% of the total grade)"
      ]
    },
    {
      "cell_type": "code",
      "execution_count": 34,
      "metadata": {
        "collapsed": true,
        "id": "FYygs3Ml1Grx"
      },
      "outputs": [],
      "source": [
        "# ... ENTER YOUR CODE HERE ...\n",
        "import numpy as np\n",
        "\n",
        "def gauss_seidel_iteration(A, b, num_iterations):\n",
        "    n = A.shape[0]\n",
        "    x = np.zeros(n)\n",
        "    norms_diff = []\n",
        "    norms_B = []\n",
        "    for _ in range(num_iterations):\n",
        "        x_new = np.zeros(n)\n",
        "        for i in range(n):\n",
        "            x_new[i] = (b[i] - np.dot(A[i, :i], x_new[:i]) - np.dot(A[i, i+1:], x[i+1:])) / A[i, i]\n",
        "        norms_diff.append(np.linalg.norm(x_new - x))\n",
        "        norms_B.append(np.linalg.norm(A - np.tril(A) @ np.triu(A, 1)))\n",
        "\n",
        "        x = x_new\n",
        "\n",
        "    return x, norms_diff, norms_B"
      ]
    },
    {
      "cell_type": "code",
      "source": [
        "n = 7\n",
        "A = np.random.rand(n, n)\n",
        "b = np.random.rand(n)\n",
        "num_iterations = 20"
      ],
      "metadata": {
        "id": "_Ut6PreS3iOS"
      },
      "execution_count": 35,
      "outputs": []
    },
    {
      "cell_type": "code",
      "source": [
        "x, diff, norm_B = gauss_seidel_iteration(A, b, num_iterations)\n",
        "print(x)\n",
        "print(diff)\n",
        "print(norm_B)"
      ],
      "metadata": {
        "id": "9O1ayPzf3rYR",
        "colab": {
          "base_uri": "https://localhost:8080/"
        },
        "outputId": "1204b21b-4f60-4bfd-ed6c-3be1bb3fa295"
      },
      "execution_count": 36,
      "outputs": [
        {
          "output_type": "stream",
          "name": "stdout",
          "text": [
            "[ 2.03870148e+14  2.00217346e+15 -1.60267559e+15 -1.91785796e+15\n",
            "  1.11181280e+16 -6.65907650e+15 -3.43561404e+15]\n",
            "[4.463360375058404, 28.620924338842695, 195.55323133973798, 1284.2415901444404, 8323.90493485999, 53767.43927648771, 347003.15059726796, 2238989.614449105, 14445970.07902936, 93204159.24323936, 601343128.2316601, 3879797227.8848257, 25032003323.66927, 161503583445.54047, 1042002382358.2974, 6722878451534.806, 43375231572398.16, 279851960302368.34, 1805572370257664.5, 1.1649343390945288e+16]\n",
            "[4.457301786507906, 4.457301786507906, 4.457301786507906, 4.457301786507906, 4.457301786507906, 4.457301786507906, 4.457301786507906, 4.457301786507906, 4.457301786507906, 4.457301786507906, 4.457301786507906, 4.457301786507906, 4.457301786507906, 4.457301786507906, 4.457301786507906, 4.457301786507906, 4.457301786507906, 4.457301786507906, 4.457301786507906, 4.457301786507906]\n"
          ]
        }
      ]
    },
    {
      "cell_type": "markdown",
      "metadata": {
        "id": "y3PDxY8W1Gry"
      },
      "source": [
        "# III. Minimum residual scheme"
      ]
    },
    {
      "cell_type": "markdown",
      "metadata": {
        "id": "IbfUD6zy1Gry"
      },
      "source": [
        "### Task III.1\n",
        "\n",
        "Implement the $\\textit{minimum residual}$ scheme: an explicit non-stationary method, where at each step you select the iteration parameter $\\tau_n$ to minimize the residual $\\mathbf{r}_{n+1}$ given $\\mathbf{r}_n$. Test it on a random matrix, study the convergence to the solution, in terms of the norm of the residual and the deviation from the ground truth solution (which you can obtain using a direct method). Study how the iteration parameter $\\tau_n$ changes as iterations progress.\n",
        "\n",
        "(50% of the grade)"
      ]
    },
    {
      "cell_type": "code",
      "execution_count": 37,
      "metadata": {
        "collapsed": true,
        "id": "60_IGETi1Gry"
      },
      "outputs": [],
      "source": [
        "# ... ENTER YOUR CODE HERE ...\n",
        "def minres_scheme(A, b, num_iterations):\n",
        "    n = A.shape[0]\n",
        "    x = np.zeros(n)\n",
        "    r = b - A @ x\n",
        "    p = r.copy()\n",
        "    norms_resid = []\n",
        "    norms_deviation = []\n",
        "    tau_values = []\n",
        "\n",
        "    for k in range(num_iterations):\n",
        "        Ap = A @ p\n",
        "        denom = np.dot(p, Ap)\n",
        "        if denom == 0:\n",
        "            break\n",
        "        tau = np.dot(r, Ap) / denom\n",
        "        x_new = x + tau * p\n",
        "        r_new = r - tau * Ap\n",
        "        norms_resid.append(np.linalg.norm(r_new))\n",
        "        norms_deviation.append(np.linalg.norm(x_new - x))\n",
        "        tau_values.append(tau)\n",
        "        x = x_new\n",
        "        r = r_new\n",
        "        beta = np.linalg.norm(r)\n",
        "        p = r + (beta / np.linalg.norm(r)) * p\n",
        "\n",
        "    return x, norms_resid, norms_deviation, tau_values"
      ]
    },
    {
      "cell_type": "code",
      "source": [
        "n = 7\n",
        "A = np.random.rand(n, n)\n",
        "b = np.random.rand(n)\n",
        "num_iterations = 20"
      ],
      "metadata": {
        "id": "Tax1oUf94KaF"
      },
      "execution_count": 38,
      "outputs": []
    },
    {
      "cell_type": "code",
      "source": [
        "x_ground_truth = np.linalg.solve(A, b)\n",
        "print(x_ground_truth)\n",
        "x_minres, norms_resid, norms_deviation, tau_values = minres_scheme(A, b, num_iterations)\n",
        "print(x_minres)\n",
        "print(norms_resid)\n",
        "print(norms_deviation)\n",
        "print(tau_values)"
      ],
      "metadata": {
        "id": "f3EVJysg4THb",
        "colab": {
          "base_uri": "https://localhost:8080/"
        },
        "outputId": "354527de-768b-4b36-e01e-47300b5373ca"
      },
      "execution_count": 39,
      "outputs": [
        {
          "output_type": "stream",
          "name": "stdout",
          "text": [
            "[ 1.83636625  3.96385796 -0.33252747  2.36315663 -5.20169247  1.81763145\n",
            " -3.6043646 ]\n",
            "[  2835847.24233322 -25178249.8034052    6424042.89947633\n",
            " -32631516.46218829 -65803131.39809561  -5613271.41135576\n",
            " -17298355.67481428]\n",
            "[2.940845020983625, 8.985973466410103, 19.666705748376884, 48.13373914501918, 140.0531839274637, 302.94243869738773, 1161.557286357105, 2467.69380614661, 9707.444628877709, 21114.366378711708, 67675.38637053393, 151949.40444738007, 420283.1590812245, 957807.6731413958, 2457376.612427777, 5600161.481505641, 13871515.78408039, 31434526.6920253, 76614187.52644137, 172726522.90335912]\n",
            "[1.5914788629687953, 4.347081445792003, 9.83537756280898, 25.774112771458075, 61.11067671062513, 179.18627127295701, 522.3509122169894, 1416.8627309983137, 4782.36548739104, 11608.304671731576, 34819.34690371479, 81834.5487429177, 214309.77473643454, 502625.4451801953, 1210470.687926621, 2838446.9375268123, 6559294.964364874, 15402218.692161104, 34976790.74581895, 82441136.5815794]\n",
            "[1.0, 2.0732494458786603, 1.204777666138228, 1.7137495596044572, 1.4450100989834038, 1.4473387649757705, 1.9171619955713752, 1.2681047681581834, 2.16697983872109, 1.2303839625282973, 1.920180465625471, 1.28679171224054, 1.697959665633397, 1.346961883110665, 1.578763695876274, 1.3825825436886097, 1.522861634570974, 1.397707594637586, 1.4987318610472338, 1.402266920063674]\n"
          ]
        }
      ]
    }
  ],
  "metadata": {
    "kernelspec": {
      "display_name": "Python 3",
      "language": "python",
      "name": "python3"
    },
    "language_info": {
      "codemirror_mode": {
        "name": "ipython",
        "version": 3
      },
      "file_extension": ".py",
      "mimetype": "text/x-python",
      "name": "python",
      "nbconvert_exporter": "python",
      "pygments_lexer": "ipython3",
      "version": "3.5.2"
    },
    "colab": {
      "provenance": []
    }
  },
  "nbformat": 4,
  "nbformat_minor": 0
}